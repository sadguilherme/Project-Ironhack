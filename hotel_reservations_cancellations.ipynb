{
 "cells": [
  {
   "cell_type": "code",
   "execution_count": 17,
   "metadata": {
    "collapsed": true,
    "ExecuteTime": {
     "end_time": "2023-05-13T13:54:33.426241500Z",
     "start_time": "2023-05-13T13:54:33.410378600Z"
    }
   },
   "outputs": [],
   "source": [
    "# Data Wrangling\n",
    "import pandas as pd\n",
    "import numpy as np\n",
    "import re\n",
    "\n",
    "# Data Visualization\n",
    "import seaborn as sns\n",
    "import matplotlib.pyplot as plt\n",
    "\n",
    "# Model Building\n",
    "from sklearn.model_selection import train_test_split\n",
    "from sklearn.linear_model import LogisticRegression\n",
    "from sklearn.metrics import accuracy_score"
   ]
  },
  {
   "cell_type": "code",
   "execution_count": 6,
   "outputs": [
    {
     "name": "stdout",
     "output_type": "stream",
     "text": [
      "<class 'pandas.core.frame.DataFrame'>\n",
      "Int64Index: 113409 entries, 0 to 119389\n",
      "Data columns (total 28 columns):\n",
      " #   Column                          Non-Null Count   Dtype  \n",
      "---  ------                          --------------   -----  \n",
      " 0   hotel                           113409 non-null  object \n",
      " 1   is_cancelled                    113409 non-null  int64  \n",
      " 2   lead_time                       113409 non-null  int64  \n",
      " 3   stays_in_weekend_nights         113409 non-null  int64  \n",
      " 4   stays_in_week_nights            113409 non-null  int64  \n",
      " 5   adults                          113409 non-null  int64  \n",
      " 6   children                        113406 non-null  float64\n",
      " 7   babies                          113409 non-null  int64  \n",
      " 8   meal                            113409 non-null  object \n",
      " 9   country                         112951 non-null  object \n",
      " 10  market_segment                  113409 non-null  object \n",
      " 11  distribution_channel            113409 non-null  object \n",
      " 12  is_repeated_guest               113409 non-null  int64  \n",
      " 13  previous_cancellations          113409 non-null  int64  \n",
      " 14  previous_bookings_not_canceled  113409 non-null  int64  \n",
      " 15  reserved_room_type              113409 non-null  object \n",
      " 16  assigned_room_type              113409 non-null  object \n",
      " 17  booking_changes                 113409 non-null  int64  \n",
      " 18  deposit_type                    113409 non-null  object \n",
      " 19  agent                           97918 non-null   float64\n",
      " 20  company                         6437 non-null    float64\n",
      " 21  days_in_waiting_list            113409 non-null  int64  \n",
      " 22  customer_type                   113409 non-null  object \n",
      " 23  adr                             113409 non-null  float64\n",
      " 24  required_car_parking_spaces     113409 non-null  int64  \n",
      " 25  total_of_special_requests       113409 non-null  int64  \n",
      " 26  reservation_status_date         113409 non-null  object \n",
      " 27  arrival_date                    113409 non-null  object \n",
      "dtypes: float64(4), int64(13), object(11)\n",
      "memory usage: 25.1+ MB\n"
     ]
    }
   ],
   "source": [
    "df = pd.read_csv(\"data/tb_hotel_traintest.csv\", index_col=\"id_booking\")\n",
    "\n",
    "df.info()"
   ],
   "metadata": {
    "collapsed": false,
    "ExecuteTime": {
     "end_time": "2023-05-13T13:32:03.866235Z",
     "start_time": "2023-05-13T13:32:03.374011700Z"
    }
   }
  },
  {
   "cell_type": "code",
   "execution_count": 7,
   "outputs": [
    {
     "data": {
      "text/plain": "                   hotel  is_cancelled  lead_time  stays_in_weekend_nights  \\\nid_booking                                                                   \n0           Resort Hotel             0        342                        0   \n1           Resort Hotel             0        737                        0   \n2           Resort Hotel             0          7                        0   \n3           Resort Hotel             0         13                        0   \n4           Resort Hotel             0         14                        0   \n\n            stays_in_week_nights  adults  children  babies meal country  ...  \\\nid_booking                                                               ...   \n0                              0       2       0.0       0   BB     PRT  ...   \n1                              0       2       0.0       0   BB     PRT  ...   \n2                              1       1       0.0       0   BB     GBR  ...   \n3                              1       1       0.0       0   BB     GBR  ...   \n4                              2       2       0.0       0   BB     GBR  ...   \n\n           deposit_type  agent  company  days_in_waiting_list  customer_type  \\\nid_booking                                                                     \n0            No Deposit    NaN      NaN                     0      Transient   \n1            No Deposit    NaN      NaN                     0      Transient   \n2            No Deposit    NaN      NaN                     0      Transient   \n3            No Deposit  304.0      NaN                     0      Transient   \n4            No Deposit  240.0      NaN                     0      Transient   \n\n             adr required_car_parking_spaces  total_of_special_requests  \\\nid_booking                                                                \n0            0.0                           0                          0   \n1            0.0                           0                          0   \n2           75.0                           0                          0   \n3           75.0                           0                          0   \n4           98.0                           0                          1   \n\n           reservation_status_date  arrival_date  \nid_booking                                        \n0                       2015-07-01    2015-07-01  \n1                       2015-07-01    2015-07-01  \n2                       2015-07-02    2015-07-01  \n3                       2015-07-02    2015-07-01  \n4                       2015-07-03    2015-07-01  \n\n[5 rows x 28 columns]",
      "text/html": "<div>\n<style scoped>\n    .dataframe tbody tr th:only-of-type {\n        vertical-align: middle;\n    }\n\n    .dataframe tbody tr th {\n        vertical-align: top;\n    }\n\n    .dataframe thead th {\n        text-align: right;\n    }\n</style>\n<table border=\"1\" class=\"dataframe\">\n  <thead>\n    <tr style=\"text-align: right;\">\n      <th></th>\n      <th>hotel</th>\n      <th>is_cancelled</th>\n      <th>lead_time</th>\n      <th>stays_in_weekend_nights</th>\n      <th>stays_in_week_nights</th>\n      <th>adults</th>\n      <th>children</th>\n      <th>babies</th>\n      <th>meal</th>\n      <th>country</th>\n      <th>...</th>\n      <th>deposit_type</th>\n      <th>agent</th>\n      <th>company</th>\n      <th>days_in_waiting_list</th>\n      <th>customer_type</th>\n      <th>adr</th>\n      <th>required_car_parking_spaces</th>\n      <th>total_of_special_requests</th>\n      <th>reservation_status_date</th>\n      <th>arrival_date</th>\n    </tr>\n    <tr>\n      <th>id_booking</th>\n      <th></th>\n      <th></th>\n      <th></th>\n      <th></th>\n      <th></th>\n      <th></th>\n      <th></th>\n      <th></th>\n      <th></th>\n      <th></th>\n      <th></th>\n      <th></th>\n      <th></th>\n      <th></th>\n      <th></th>\n      <th></th>\n      <th></th>\n      <th></th>\n      <th></th>\n      <th></th>\n      <th></th>\n    </tr>\n  </thead>\n  <tbody>\n    <tr>\n      <th>0</th>\n      <td>Resort Hotel</td>\n      <td>0</td>\n      <td>342</td>\n      <td>0</td>\n      <td>0</td>\n      <td>2</td>\n      <td>0.0</td>\n      <td>0</td>\n      <td>BB</td>\n      <td>PRT</td>\n      <td>...</td>\n      <td>No Deposit</td>\n      <td>NaN</td>\n      <td>NaN</td>\n      <td>0</td>\n      <td>Transient</td>\n      <td>0.0</td>\n      <td>0</td>\n      <td>0</td>\n      <td>2015-07-01</td>\n      <td>2015-07-01</td>\n    </tr>\n    <tr>\n      <th>1</th>\n      <td>Resort Hotel</td>\n      <td>0</td>\n      <td>737</td>\n      <td>0</td>\n      <td>0</td>\n      <td>2</td>\n      <td>0.0</td>\n      <td>0</td>\n      <td>BB</td>\n      <td>PRT</td>\n      <td>...</td>\n      <td>No Deposit</td>\n      <td>NaN</td>\n      <td>NaN</td>\n      <td>0</td>\n      <td>Transient</td>\n      <td>0.0</td>\n      <td>0</td>\n      <td>0</td>\n      <td>2015-07-01</td>\n      <td>2015-07-01</td>\n    </tr>\n    <tr>\n      <th>2</th>\n      <td>Resort Hotel</td>\n      <td>0</td>\n      <td>7</td>\n      <td>0</td>\n      <td>1</td>\n      <td>1</td>\n      <td>0.0</td>\n      <td>0</td>\n      <td>BB</td>\n      <td>GBR</td>\n      <td>...</td>\n      <td>No Deposit</td>\n      <td>NaN</td>\n      <td>NaN</td>\n      <td>0</td>\n      <td>Transient</td>\n      <td>75.0</td>\n      <td>0</td>\n      <td>0</td>\n      <td>2015-07-02</td>\n      <td>2015-07-01</td>\n    </tr>\n    <tr>\n      <th>3</th>\n      <td>Resort Hotel</td>\n      <td>0</td>\n      <td>13</td>\n      <td>0</td>\n      <td>1</td>\n      <td>1</td>\n      <td>0.0</td>\n      <td>0</td>\n      <td>BB</td>\n      <td>GBR</td>\n      <td>...</td>\n      <td>No Deposit</td>\n      <td>304.0</td>\n      <td>NaN</td>\n      <td>0</td>\n      <td>Transient</td>\n      <td>75.0</td>\n      <td>0</td>\n      <td>0</td>\n      <td>2015-07-02</td>\n      <td>2015-07-01</td>\n    </tr>\n    <tr>\n      <th>4</th>\n      <td>Resort Hotel</td>\n      <td>0</td>\n      <td>14</td>\n      <td>0</td>\n      <td>2</td>\n      <td>2</td>\n      <td>0.0</td>\n      <td>0</td>\n      <td>BB</td>\n      <td>GBR</td>\n      <td>...</td>\n      <td>No Deposit</td>\n      <td>240.0</td>\n      <td>NaN</td>\n      <td>0</td>\n      <td>Transient</td>\n      <td>98.0</td>\n      <td>0</td>\n      <td>1</td>\n      <td>2015-07-03</td>\n      <td>2015-07-01</td>\n    </tr>\n  </tbody>\n</table>\n<p>5 rows × 28 columns</p>\n</div>"
     },
     "execution_count": 7,
     "metadata": {},
     "output_type": "execute_result"
    }
   ],
   "source": [
    "df.head()"
   ],
   "metadata": {
    "collapsed": false,
    "ExecuteTime": {
     "end_time": "2023-05-13T13:32:04.633864500Z",
     "start_time": "2023-05-13T13:32:04.602319100Z"
    }
   }
  },
  {
   "cell_type": "markdown",
   "source": [
    "---\n",
    "## 1. Leakage"
   ],
   "metadata": {
    "collapsed": false
   }
  },
  {
   "cell_type": "markdown",
   "source": [
    "<font color = \"Red\"> reservation_status_date:  <font color = \"White\"> Date at which the last status was set. This variable can be used in conjunction with the ReservationStatus to understand when was the booking canceled or when did the customer checked-out of the hotel\n",
    "<font color = \"Red\"> assigned_room_type: <font color = \"White\">  Code for the type of room assigned to the booking. Sometimes the assigned room type differs from the reserved room type due to hotel operation reasons (e.g. overbooking) or by customer request. Code is presented instead of designation\n",
    "for anonymity reasons"
   ],
   "metadata": {
    "collapsed": false
   }
  },
  {
   "cell_type": "code",
   "execution_count": 10,
   "outputs": [],
   "source": [
    "df = df.drop(columns=[\"reservation_status_date\", \"assigned_room_type\"])"
   ],
   "metadata": {
    "collapsed": false,
    "ExecuteTime": {
     "end_time": "2023-05-13T13:44:33.330436300Z",
     "start_time": "2023-05-13T13:44:33.297312Z"
    }
   }
  },
  {
   "cell_type": "markdown",
   "source": [
    "---\n",
    "## 2. EDA - Categorical Variables"
   ],
   "metadata": {
    "collapsed": false
   }
  },
  {
   "cell_type": "code",
   "execution_count": 11,
   "outputs": [
    {
     "data": {
      "text/plain": "Index(['hotel', 'meal', 'country', 'market_segment', 'distribution_channel',\n       'reserved_room_type', 'deposit_type', 'customer_type', 'arrival_date'],\n      dtype='object')"
     },
     "execution_count": 11,
     "metadata": {},
     "output_type": "execute_result"
    }
   ],
   "source": [
    "categorical = df.select_dtypes(exclude=\"number\")\n",
    "categorical.columns"
   ],
   "metadata": {
    "collapsed": false,
    "ExecuteTime": {
     "end_time": "2023-05-13T13:46:18.261520100Z",
     "start_time": "2023-05-13T13:46:18.210208200Z"
    }
   }
  },
  {
   "cell_type": "code",
   "execution_count": null,
   "outputs": [],
   "source": [],
   "metadata": {
    "collapsed": false
   }
  },
  {
   "cell_type": "code",
   "execution_count": null,
   "outputs": [],
   "source": [],
   "metadata": {
    "collapsed": false
   }
  },
  {
   "cell_type": "markdown",
   "source": [
    "---\n",
    "## 3. EDA - Numerical Variables"
   ],
   "metadata": {
    "collapsed": false
   }
  },
  {
   "cell_type": "code",
   "execution_count": 12,
   "outputs": [
    {
     "data": {
      "text/plain": "Index(['is_cancelled', 'lead_time', 'stays_in_weekend_nights',\n       'stays_in_week_nights', 'adults', 'children', 'babies',\n       'is_repeated_guest', 'previous_cancellations',\n       'previous_bookings_not_canceled', 'booking_changes', 'agent', 'company',\n       'days_in_waiting_list', 'adr', 'required_car_parking_spaces',\n       'total_of_special_requests'],\n      dtype='object')"
     },
     "execution_count": 12,
     "metadata": {},
     "output_type": "execute_result"
    }
   ],
   "source": [
    "numerical = df.select_dtypes(include=\"number\")\n",
    "numerical.columns"
   ],
   "metadata": {
    "collapsed": false,
    "ExecuteTime": {
     "end_time": "2023-05-13T13:46:46.362108700Z",
     "start_time": "2023-05-13T13:46:46.351986400Z"
    }
   }
  },
  {
   "cell_type": "code",
   "execution_count": 42,
   "outputs": [
    {
     "ename": "ValueError",
     "evalue": "The truth value of a Series is ambiguous. Use a.empty, a.bool(), a.item(), a.any() or a.all().",
     "output_type": "error",
     "traceback": [
      "\u001B[1;31m---------------------------------------------------------------------------\u001B[0m",
      "\u001B[1;31mValueError\u001B[0m                                Traceback (most recent call last)",
      "Cell \u001B[1;32mIn[42], line 1\u001B[0m\n\u001B[1;32m----> 1\u001B[0m \u001B[43msns\u001B[49m\u001B[38;5;241;43m.\u001B[39;49m\u001B[43mpairplot\u001B[49m\u001B[43m(\u001B[49m\u001B[43mnumerical\u001B[49m\u001B[43m[\u001B[49m\u001B[43m[\u001B[49m\u001B[38;5;124;43m\"\u001B[39;49m\u001B[38;5;124;43mis_cancelled\u001B[39;49m\u001B[38;5;124;43m\"\u001B[39;49m\u001B[43m,\u001B[49m\u001B[43m \u001B[49m\u001B[38;5;124;43m\"\u001B[39;49m\u001B[38;5;124;43mlead_time\u001B[39;49m\u001B[38;5;124;43m\"\u001B[39;49m\u001B[43m,\u001B[49m\u001B[43m \u001B[49m\u001B[38;5;124;43m\"\u001B[39;49m\u001B[38;5;124;43mstays_in_week_nights\u001B[39;49m\u001B[38;5;124;43m\"\u001B[39;49m\u001B[43m,\u001B[49m\u001B[43m \u001B[49m\u001B[38;5;124;43m\"\u001B[39;49m\u001B[38;5;124;43mstays_in_week_nights\u001B[39;49m\u001B[38;5;124;43m\"\u001B[39;49m\u001B[43m,\u001B[49m\u001B[43m \u001B[49m\u001B[38;5;124;43m\"\u001B[39;49m\u001B[38;5;124;43madults\u001B[39;49m\u001B[38;5;124;43m\"\u001B[39;49m\u001B[43m]\u001B[49m\u001B[43m]\u001B[49m\u001B[43m,\u001B[49m\u001B[43m \u001B[49m\u001B[43my_vars\u001B[49m\u001B[38;5;241;43m=\u001B[39;49m\u001B[38;5;124;43m\"\u001B[39;49m\u001B[38;5;124;43mis_cancelled\u001B[39;49m\u001B[38;5;124;43m\"\u001B[39;49m\u001B[43m)\u001B[49m\n",
      "File \u001B[1;32m~\\anaconda3\\lib\\site-packages\\seaborn\\axisgrid.py:2114\u001B[0m, in \u001B[0;36mpairplot\u001B[1;34m(data, hue, hue_order, palette, vars, x_vars, y_vars, kind, diag_kind, markers, height, aspect, corner, dropna, plot_kws, diag_kws, grid_kws, size)\u001B[0m\n\u001B[0;32m   2112\u001B[0m \u001B[38;5;66;03m# Set up the PairGrid\u001B[39;00m\n\u001B[0;32m   2113\u001B[0m grid_kws\u001B[38;5;241m.\u001B[39msetdefault(\u001B[38;5;124m\"\u001B[39m\u001B[38;5;124mdiag_sharey\u001B[39m\u001B[38;5;124m\"\u001B[39m, diag_kind \u001B[38;5;241m==\u001B[39m \u001B[38;5;124m\"\u001B[39m\u001B[38;5;124mhist\u001B[39m\u001B[38;5;124m\"\u001B[39m)\n\u001B[1;32m-> 2114\u001B[0m grid \u001B[38;5;241m=\u001B[39m PairGrid(data, \u001B[38;5;28mvars\u001B[39m\u001B[38;5;241m=\u001B[39m\u001B[38;5;28mvars\u001B[39m, x_vars\u001B[38;5;241m=\u001B[39mx_vars, y_vars\u001B[38;5;241m=\u001B[39my_vars, hue\u001B[38;5;241m=\u001B[39mhue,\n\u001B[0;32m   2115\u001B[0m                 hue_order\u001B[38;5;241m=\u001B[39mhue_order, palette\u001B[38;5;241m=\u001B[39mpalette, corner\u001B[38;5;241m=\u001B[39mcorner,\n\u001B[0;32m   2116\u001B[0m                 height\u001B[38;5;241m=\u001B[39mheight, aspect\u001B[38;5;241m=\u001B[39maspect, dropna\u001B[38;5;241m=\u001B[39mdropna, \u001B[38;5;241m*\u001B[39m\u001B[38;5;241m*\u001B[39mgrid_kws)\n\u001B[0;32m   2118\u001B[0m \u001B[38;5;66;03m# Add the markers here as PairGrid has figured out how many levels of the\u001B[39;00m\n\u001B[0;32m   2119\u001B[0m \u001B[38;5;66;03m# hue variable are needed and we don't want to duplicate that process\u001B[39;00m\n\u001B[0;32m   2120\u001B[0m \u001B[38;5;28;01mif\u001B[39;00m markers \u001B[38;5;129;01mis\u001B[39;00m \u001B[38;5;129;01mnot\u001B[39;00m \u001B[38;5;28;01mNone\u001B[39;00m:\n",
      "File \u001B[1;32m~\\anaconda3\\lib\\site-packages\\seaborn\\axisgrid.py:1245\u001B[0m, in \u001B[0;36mPairGrid.__init__\u001B[1;34m(self, data, hue, vars, x_vars, y_vars, hue_order, palette, hue_kws, corner, diag_sharey, height, aspect, layout_pad, despine, dropna)\u001B[0m\n\u001B[0;32m   1242\u001B[0m \u001B[38;5;28msuper\u001B[39m()\u001B[38;5;241m.\u001B[39m\u001B[38;5;21m__init__\u001B[39m()\n\u001B[0;32m   1244\u001B[0m \u001B[38;5;66;03m# Sort out the variables that define the grid\u001B[39;00m\n\u001B[1;32m-> 1245\u001B[0m numeric_cols \u001B[38;5;241m=\u001B[39m \u001B[38;5;28;43mself\u001B[39;49m\u001B[38;5;241;43m.\u001B[39;49m\u001B[43m_find_numeric_cols\u001B[49m\u001B[43m(\u001B[49m\u001B[43mdata\u001B[49m\u001B[43m)\u001B[49m\n\u001B[0;32m   1246\u001B[0m \u001B[38;5;28;01mif\u001B[39;00m hue \u001B[38;5;129;01min\u001B[39;00m numeric_cols:\n\u001B[0;32m   1247\u001B[0m     numeric_cols\u001B[38;5;241m.\u001B[39mremove(hue)\n",
      "File \u001B[1;32m~\\anaconda3\\lib\\site-packages\\seaborn\\axisgrid.py:1668\u001B[0m, in \u001B[0;36mPairGrid._find_numeric_cols\u001B[1;34m(self, data)\u001B[0m\n\u001B[0;32m   1666\u001B[0m numeric_cols \u001B[38;5;241m=\u001B[39m []\n\u001B[0;32m   1667\u001B[0m \u001B[38;5;28;01mfor\u001B[39;00m col \u001B[38;5;129;01min\u001B[39;00m data:\n\u001B[1;32m-> 1668\u001B[0m     \u001B[38;5;28;01mif\u001B[39;00m \u001B[43mvariable_type\u001B[49m\u001B[43m(\u001B[49m\u001B[43mdata\u001B[49m\u001B[43m[\u001B[49m\u001B[43mcol\u001B[49m\u001B[43m]\u001B[49m\u001B[43m)\u001B[49m \u001B[38;5;241m==\u001B[39m \u001B[38;5;124m\"\u001B[39m\u001B[38;5;124mnumeric\u001B[39m\u001B[38;5;124m\"\u001B[39m:\n\u001B[0;32m   1669\u001B[0m         numeric_cols\u001B[38;5;241m.\u001B[39mappend(col)\n\u001B[0;32m   1670\u001B[0m \u001B[38;5;28;01mreturn\u001B[39;00m numeric_cols\n",
      "File \u001B[1;32m~\\anaconda3\\lib\\site-packages\\seaborn\\_oldcore.py:1502\u001B[0m, in \u001B[0;36mvariable_type\u001B[1;34m(vector, boolean_type)\u001B[0m\n\u001B[0;32m   1499\u001B[0m     \u001B[38;5;28;01mreturn\u001B[39;00m VariableType(\u001B[38;5;124m\"\u001B[39m\u001B[38;5;124mcategorical\u001B[39m\u001B[38;5;124m\"\u001B[39m)\n\u001B[0;32m   1501\u001B[0m \u001B[38;5;66;03m# Special-case all-na data, which is always \"numeric\"\u001B[39;00m\n\u001B[1;32m-> 1502\u001B[0m \u001B[38;5;28;01mif\u001B[39;00m pd\u001B[38;5;241m.\u001B[39misna(vector)\u001B[38;5;241m.\u001B[39mall():\n\u001B[0;32m   1503\u001B[0m     \u001B[38;5;28;01mreturn\u001B[39;00m VariableType(\u001B[38;5;124m\"\u001B[39m\u001B[38;5;124mnumeric\u001B[39m\u001B[38;5;124m\"\u001B[39m)\n\u001B[0;32m   1505\u001B[0m \u001B[38;5;66;03m# Special-case binary/boolean data, allow caller to determine\u001B[39;00m\n\u001B[0;32m   1506\u001B[0m \u001B[38;5;66;03m# This triggers a numpy warning when vector has strings/objects\u001B[39;00m\n\u001B[0;32m   1507\u001B[0m \u001B[38;5;66;03m# https://github.com/numpy/numpy/issues/6784\u001B[39;00m\n\u001B[1;32m   (...)\u001B[0m\n\u001B[0;32m   1511\u001B[0m \u001B[38;5;66;03m# https://github.com/numpy/numpy/issues/13548\u001B[39;00m\n\u001B[0;32m   1512\u001B[0m \u001B[38;5;66;03m# This is considered a bug by numpy and will likely go away.\u001B[39;00m\n",
      "File \u001B[1;32m~\\anaconda3\\lib\\site-packages\\pandas\\core\\generic.py:1527\u001B[0m, in \u001B[0;36mNDFrame.__nonzero__\u001B[1;34m(self)\u001B[0m\n\u001B[0;32m   1525\u001B[0m \u001B[38;5;129m@final\u001B[39m\n\u001B[0;32m   1526\u001B[0m \u001B[38;5;28;01mdef\u001B[39;00m \u001B[38;5;21m__nonzero__\u001B[39m(\u001B[38;5;28mself\u001B[39m) \u001B[38;5;241m-\u001B[39m\u001B[38;5;241m>\u001B[39m NoReturn:\n\u001B[1;32m-> 1527\u001B[0m     \u001B[38;5;28;01mraise\u001B[39;00m \u001B[38;5;167;01mValueError\u001B[39;00m(\n\u001B[0;32m   1528\u001B[0m         \u001B[38;5;124mf\u001B[39m\u001B[38;5;124m\"\u001B[39m\u001B[38;5;124mThe truth value of a \u001B[39m\u001B[38;5;132;01m{\u001B[39;00m\u001B[38;5;28mtype\u001B[39m(\u001B[38;5;28mself\u001B[39m)\u001B[38;5;241m.\u001B[39m\u001B[38;5;18m__name__\u001B[39m\u001B[38;5;132;01m}\u001B[39;00m\u001B[38;5;124m is ambiguous. \u001B[39m\u001B[38;5;124m\"\u001B[39m\n\u001B[0;32m   1529\u001B[0m         \u001B[38;5;124m\"\u001B[39m\u001B[38;5;124mUse a.empty, a.bool(), a.item(), a.any() or a.all().\u001B[39m\u001B[38;5;124m\"\u001B[39m\n\u001B[0;32m   1530\u001B[0m     )\n",
      "\u001B[1;31mValueError\u001B[0m: The truth value of a Series is ambiguous. Use a.empty, a.bool(), a.item(), a.any() or a.all()."
     ]
    }
   ],
   "source": [
    "sns.pairplot(numerical[[\"is_cancelled\", \"lead_time\", \"stays_in_week_nights\", \"stays_in_week_nights\", \"adults\"]], y_vars=\"is_cancelled\")"
   ],
   "metadata": {
    "collapsed": false,
    "ExecuteTime": {
     "end_time": "2023-05-13T14:18:28.810400700Z",
     "start_time": "2023-05-13T14:18:28.743863400Z"
    }
   }
  },
  {
   "cell_type": "markdown",
   "source": [
    "### 3a. Null values"
   ],
   "metadata": {
    "collapsed": false
   }
  },
  {
   "cell_type": "code",
   "execution_count": 37,
   "outputs": [
    {
     "data": {
      "text/plain": "is_cancelled                           0\nlead_time                              0\nstays_in_weekend_nights                0\nstays_in_week_nights                   0\nadults                                 0\nchildren                               3\nbabies                                 0\nis_repeated_guest                      0\nprevious_cancellations                 0\nprevious_bookings_not_canceled         0\nbooking_changes                        0\nagent                              15491\ncompany                           106972\ndays_in_waiting_list                   0\nadr                                    0\nrequired_car_parking_spaces            0\ntotal_of_special_requests              0\nlead_time_log                          0\ndtype: int64"
     },
     "execution_count": 37,
     "metadata": {},
     "output_type": "execute_result"
    }
   ],
   "source": [
    "numerical.isna().sum()"
   ],
   "metadata": {
    "collapsed": false,
    "ExecuteTime": {
     "end_time": "2023-05-13T14:13:08.422422800Z",
     "start_time": "2023-05-13T14:13:08.418397500Z"
    }
   }
  },
  {
   "cell_type": "markdown",
   "source": [
    "#### 3b. lead_time"
   ],
   "metadata": {
    "collapsed": false
   }
  },
  {
   "cell_type": "code",
   "execution_count": 23,
   "outputs": [
    {
     "data": {
      "text/plain": "<Figure size 640x480 with 1 Axes>",
      "image/png": "[encoded data removed]"
     },
     "metadata": {},
     "output_type": "display_data"
    }
   ],
   "source": [
    "sns.histplot(data=numerical, x=\"lead_time\");"
   ],
   "metadata": {
    "collapsed": false,
    "ExecuteTime": {
     "end_time": "2023-05-13T13:58:57.411821700Z",
     "start_time": "2023-05-13T13:58:57.007378Z"
    }
   }
  },
  {
   "cell_type": "code",
   "execution_count": 24,
   "outputs": [
    {
     "name": "stderr",
     "output_type": "stream",
     "text": [
      "C:\\Users\\lvgui\\anaconda3\\lib\\site-packages\\pandas\\core\\arraylike.py:402: RuntimeWarning: divide by zero encountered in log\n",
      "  result = getattr(ufunc, method)(*inputs, **kwargs)\n"
     ]
    }
   ],
   "source": [
    "numerical[\"lead_time_log\"] = np.log(numerical[\"lead_time\"])\n",
    "X_lead_time = numerical[[\"lead_time\"]]\n",
    "y = numerical[\"is_cancelled\"]\n",
    "\n",
    "X_train, X_test, y_train, y_test = train_test_split(X_lead_time, y, test_size=0.2, random_state=42)"
   ],
   "metadata": {
    "collapsed": false,
    "ExecuteTime": {
     "end_time": "2023-05-13T14:00:55.530756200Z",
     "start_time": "2023-05-13T14:00:55.508788300Z"
    }
   }
  },
  {
   "cell_type": "code",
   "execution_count": 25,
   "outputs": [
    {
     "data": {
      "text/plain": "LogisticRegression()",
      "text/html": "<style>#sk-container-id-2 {color: black;background-color: white;}#sk-container-id-2 pre{padding: 0;}#sk-container-id-2 div.sk-toggleable {background-color: white;}#sk-container-id-2 label.sk-toggleable__label {cursor: pointer;display: block;width: 100%;margin-bottom: 0;padding: 0.3em;box-sizing: border-box;text-align: center;}#sk-container-id-2 label.sk-toggleable__label-arrow:before {content: \"▸\";float: left;margin-right: 0.25em;color: #696969;}#sk-container-id-2 label.sk-toggleable__label-arrow:hover:before {color: black;}#sk-container-id-2 div.sk-estimator:hover label.sk-toggleable__label-arrow:before {color: black;}#sk-container-id-2 div.sk-toggleable__content {max-height: 0;max-width: 0;overflow: hidden;text-align: left;background-color: #f0f8ff;}#sk-container-id-2 div.sk-toggleable__content pre {margin: 0.2em;color: black;border-radius: 0.25em;background-color: #f0f8ff;}#sk-container-id-2 input.sk-toggleable__control:checked~div.sk-toggleable__content {max-height: 200px;max-width: 100%;overflow: auto;}#sk-container-id-2 input.sk-toggleable__control:checked~label.sk-toggleable__label-arrow:before {content: \"▾\";}#sk-container-id-2 div.sk-estimator input.sk-toggleable__control:checked~label.sk-toggleable__label {background-color: #d4ebff;}#sk-container-id-2 div.sk-label input.sk-toggleable__control:checked~label.sk-toggleable__label {background-color: #d4ebff;}#sk-container-id-2 input.sk-hidden--visually {border: 0;clip: rect(1px 1px 1px 1px);clip: rect(1px, 1px, 1px, 1px);height: 1px;margin: -1px;overflow: hidden;padding: 0;position: absolute;width: 1px;}#sk-container-id-2 div.sk-estimator {font-family: monospace;background-color: #f0f8ff;border: 1px dotted black;border-radius: 0.25em;box-sizing: border-box;margin-bottom: 0.5em;}#sk-container-id-2 div.sk-estimator:hover {background-color: #d4ebff;}#sk-container-id-2 div.sk-parallel-item::after {content: \"\";width: 100%;border-bottom: 1px solid gray;flex-grow: 1;}#sk-container-id-2 div.sk-label:hover label.sk-toggleable__label {background-color: #d4ebff;}#sk-container-id-2 div.sk-serial::before {content: \"\";position: absolute;border-left: 1px solid gray;box-sizing: border-box;top: 0;bottom: 0;left: 50%;z-index: 0;}#sk-container-id-2 div.sk-serial {display: flex;flex-direction: column;align-items: center;background-color: white;padding-right: 0.2em;padding-left: 0.2em;position: relative;}#sk-container-id-2 div.sk-item {position: relative;z-index: 1;}#sk-container-id-2 div.sk-parallel {display: flex;align-items: stretch;justify-content: center;background-color: white;position: relative;}#sk-container-id-2 div.sk-item::before, #sk-container-id-2 div.sk-parallel-item::before {content: \"\";position: absolute;border-left: 1px solid gray;box-sizing: border-box;top: 0;bottom: 0;left: 50%;z-index: -1;}#sk-container-id-2 div.sk-parallel-item {display: flex;flex-direction: column;z-index: 1;position: relative;background-color: white;}#sk-container-id-2 div.sk-parallel-item:first-child::after {align-self: flex-end;width: 50%;}#sk-container-id-2 div.sk-parallel-item:last-child::after {align-self: flex-start;width: 50%;}#sk-container-id-2 div.sk-parallel-item:only-child::after {width: 0;}#sk-container-id-2 div.sk-dashed-wrapped {border: 1px dashed gray;margin: 0 0.4em 0.5em 0.4em;box-sizing: border-box;padding-bottom: 0.4em;background-color: white;}#sk-container-id-2 div.sk-label label {font-family: monospace;font-weight: bold;display: inline-block;line-height: 1.2em;}#sk-container-id-2 div.sk-label-container {text-align: center;}#sk-container-id-2 div.sk-container {/* jupyter's `normalize.less` sets `[hidden] { display: none; }` but bootstrap.min.css set `[hidden] { display: none !important; }` so we also need the `!important` here to be able to override the default hidden behavior on the sphinx rendered scikit-learn.org. See: https://github.com/scikit-learn/scikit-learn/issues/21755 */display: inline-block !important;position: relative;}#sk-container-id-2 div.sk-text-repr-fallback {display: none;}</style><div id=\"sk-container-id-2\" class=\"sk-top-container\"><div class=\"sk-text-repr-fallback\"><pre>LogisticRegression()</pre><b>In a Jupyter environment, please rerun this cell to show the HTML representation or trust the notebook. <br />On GitHub, the HTML representation is unable to render, please try loading this page with nbviewer.org.</b></div><div class=\"sk-container\" hidden><div class=\"sk-item\"><div class=\"sk-estimator sk-toggleable\"><input class=\"sk-toggleable__control sk-hidden--visually\" id=\"sk-estimator-id-2\" type=\"checkbox\" checked><label for=\"sk-estimator-id-2\" class=\"sk-toggleable__label sk-toggleable__label-arrow\">LogisticRegression</label><div class=\"sk-toggleable__content\"><pre>LogisticRegression()</pre></div></div></div></div></div>"
     },
     "execution_count": 25,
     "metadata": {},
     "output_type": "execute_result"
    }
   ],
   "source": [
    "model = LogisticRegression()\n",
    "model.fit(X_train, y_train)"
   ],
   "metadata": {
    "collapsed": false,
    "ExecuteTime": {
     "end_time": "2023-05-13T14:01:00.566102900Z",
     "start_time": "2023-05-13T14:01:00.474686500Z"
    }
   }
  },
  {
   "cell_type": "code",
   "execution_count": 18,
   "outputs": [
    {
     "data": {
      "text/plain": "0.6603033242218499"
     },
     "execution_count": 18,
     "metadata": {},
     "output_type": "execute_result"
    }
   ],
   "source": [
    "prediction = model.predict(X_test)\n",
    "accuracy_score(y_test, prediction)"
   ],
   "metadata": {
    "collapsed": false,
    "ExecuteTime": {
     "end_time": "2023-05-13T13:54:58.614152700Z",
     "start_time": "2023-05-13T13:54:58.563133400Z"
    }
   }
  },
  {
   "cell_type": "code",
   "execution_count": 32,
   "outputs": [
    {
     "data": {
      "text/plain": "   id_booking  lead_time\n0       31245         65\n1      101297         14\n2      118085        113\n3       61307         65\n4       72006        163",
      "text/html": "<div>\n<style scoped>\n    .dataframe tbody tr th:only-of-type {\n        vertical-align: middle;\n    }\n\n    .dataframe tbody tr th {\n        vertical-align: top;\n    }\n\n    .dataframe thead th {\n        text-align: right;\n    }\n</style>\n<table border=\"1\" class=\"dataframe\">\n  <thead>\n    <tr style=\"text-align: right;\">\n      <th></th>\n      <th>id_booking</th>\n      <th>lead_time</th>\n    </tr>\n  </thead>\n  <tbody>\n    <tr>\n      <th>0</th>\n      <td>31245</td>\n      <td>65</td>\n    </tr>\n    <tr>\n      <th>1</th>\n      <td>101297</td>\n      <td>14</td>\n    </tr>\n    <tr>\n      <th>2</th>\n      <td>118085</td>\n      <td>113</td>\n    </tr>\n    <tr>\n      <th>3</th>\n      <td>61307</td>\n      <td>65</td>\n    </tr>\n    <tr>\n      <th>4</th>\n      <td>72006</td>\n      <td>163</td>\n    </tr>\n  </tbody>\n</table>\n</div>"
     },
     "execution_count": 32,
     "metadata": {},
     "output_type": "execute_result"
    }
   ],
   "source": [
    "X_test.reset_index().head()"
   ],
   "metadata": {
    "collapsed": false,
    "ExecuteTime": {
     "end_time": "2023-05-13T14:06:26.417782300Z",
     "start_time": "2023-05-13T14:06:26.404400500Z"
    }
   }
  },
  {
   "cell_type": "code",
   "execution_count": 33,
   "outputs": [
    {
     "data": {
      "text/plain": "          0         1  id_booking  lead_time\n0  0.687286  0.312714       31245         65\n1  0.747597  0.252403      101297         14\n2  0.624017  0.375983      118085        113\n3  0.687286  0.312714       61307         65\n4  0.553324  0.446676       72006        163",
      "text/html": "<div>\n<style scoped>\n    .dataframe tbody tr th:only-of-type {\n        vertical-align: middle;\n    }\n\n    .dataframe tbody tr th {\n        vertical-align: top;\n    }\n\n    .dataframe thead th {\n        text-align: right;\n    }\n</style>\n<table border=\"1\" class=\"dataframe\">\n  <thead>\n    <tr style=\"text-align: right;\">\n      <th></th>\n      <th>0</th>\n      <th>1</th>\n      <th>id_booking</th>\n      <th>lead_time</th>\n    </tr>\n  </thead>\n  <tbody>\n    <tr>\n      <th>0</th>\n      <td>0.687286</td>\n      <td>0.312714</td>\n      <td>31245</td>\n      <td>65</td>\n    </tr>\n    <tr>\n      <th>1</th>\n      <td>0.747597</td>\n      <td>0.252403</td>\n      <td>101297</td>\n      <td>14</td>\n    </tr>\n    <tr>\n      <th>2</th>\n      <td>0.624017</td>\n      <td>0.375983</td>\n      <td>118085</td>\n      <td>113</td>\n    </tr>\n    <tr>\n      <th>3</th>\n      <td>0.687286</td>\n      <td>0.312714</td>\n      <td>61307</td>\n      <td>65</td>\n    </tr>\n    <tr>\n      <th>4</th>\n      <td>0.553324</td>\n      <td>0.446676</td>\n      <td>72006</td>\n      <td>163</td>\n    </tr>\n  </tbody>\n</table>\n</div>"
     },
     "execution_count": 33,
     "metadata": {},
     "output_type": "execute_result"
    }
   ],
   "source": [
    "predict_probabilities = pd.DataFrame(model.predict_proba(X_test))\n",
    "predict_probabilities = pd.concat(\n",
    "    [predict_probabilities, X_test.reset_index()],\n",
    "    axis=1\n",
    ")\n",
    "\n",
    "predict_probabilities.head()"
   ],
   "metadata": {
    "collapsed": false,
    "ExecuteTime": {
     "end_time": "2023-05-13T14:06:42.823877Z",
     "start_time": "2023-05-13T14:06:42.799815100Z"
    }
   }
  },
  {
   "cell_type": "code",
   "execution_count": 35,
   "outputs": [
    {
     "data": {
      "text/plain": "<AxesSubplot: xlabel='lead_time', ylabel='1'>"
     },
     "execution_count": 35,
     "metadata": {},
     "output_type": "execute_result"
    },
    {
     "data": {
      "text/plain": "<Figure size 640x480 with 1 Axes>",
      "image/png": "[encoded data removed]"
     },
     "metadata": {},
     "output_type": "display_data"
    }
   ],
   "source": [
    "sns.lineplot(data=predict_probabilities, x=\"lead_time\", y=1)\n",
    "\n",
    "plt.title(\"Cancellation probability vs Lead Time\")\n",
    "plt.xlabel(\"\")"
   ],
   "metadata": {
    "collapsed": false,
    "ExecuteTime": {
     "end_time": "2023-05-13T14:07:16.806244200Z",
     "start_time": "2023-05-13T14:07:11.254657800Z"
    }
   }
  },
  {
   "cell_type": "code",
   "execution_count": null,
   "outputs": [],
   "source": [],
   "metadata": {
    "collapsed": false
   }
  }
 ],
 "metadata": {
  "kernelspec": {
   "display_name": "Python 3",
   "language": "python",
   "name": "python3"
  },
  "language_info": {
   "codemirror_mode": {
    "name": "ipython",
    "version": 2
   },
   "file_extension": ".py",
   "mimetype": "text/x-python",
   "name": "python",
   "nbconvert_exporter": "python",
   "pygments_lexer": "ipython2",
   "version": "2.7.6"
  }
 },
 "nbformat": 4,
 "nbformat_minor": 0
}
